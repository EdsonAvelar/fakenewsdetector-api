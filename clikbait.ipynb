{
 "cells": [
  {
   "cell_type": "code",
   "execution_count": 207,
   "metadata": {},
   "outputs": [],
   "source": [
    "%reset -f "
   ]
  },
  {
   "cell_type": "code",
   "execution_count": 208,
   "metadata": {},
   "outputs": [],
   "source": [
    "import pandas as pd\n",
    "import numpy as np\n",
    "\n",
    "import matplotlib.pyplot as plt\n",
    "import seaborn as sns\n",
    "\n",
    "%matplotlib inline"
   ]
  },
  {
   "cell_type": "code",
   "execution_count": 209,
   "metadata": {},
   "outputs": [],
   "source": [
    "p = pd.read_csv(\"clickbait_titles.csv\",index_col=0, parse_dates=['timestamp'])\n",
    "n = pd.read_csv(\"non_clickbait_titles.csv\",index_col=0, parse_dates=['timestamp'])\n",
    "p['y'] = 1\n",
    "n['y'] = 0"
   ]
  },
  {
   "cell_type": "code",
   "execution_count": 210,
   "metadata": {},
   "outputs": [
    {
     "data": {
      "text/html": [
       "<div>\n",
       "<style scoped>\n",
       "    .dataframe tbody tr th:only-of-type {\n",
       "        vertical-align: middle;\n",
       "    }\n",
       "\n",
       "    .dataframe tbody tr th {\n",
       "        vertical-align: top;\n",
       "    }\n",
       "\n",
       "    .dataframe thead th {\n",
       "        text-align: right;\n",
       "    }\n",
       "</style>\n",
       "<table border=\"1\" class=\"dataframe\">\n",
       "  <thead>\n",
       "    <tr style=\"text-align: right;\">\n",
       "      <th></th>\n",
       "      <th>timestamp</th>\n",
       "      <th>title</th>\n",
       "      <th>url</th>\n",
       "      <th>y</th>\n",
       "    </tr>\n",
       "  </thead>\n",
       "  <tbody>\n",
       "    <tr>\n",
       "      <th>0</th>\n",
       "      <td>2018-05-18 19:22:06</td>\n",
       "      <td>20 imagens que, por incrível que pareça, não s...</td>\n",
       "      <td>https://www.buzzfeed.com/daves4/animais-penis-...</td>\n",
       "      <td>1</td>\n",
       "    </tr>\n",
       "    <tr>\n",
       "      <th>1</th>\n",
       "      <td>2018-05-16 17:24:04</td>\n",
       "      <td>24 filmes da Disney explicados por homens que ...</td>\n",
       "      <td>https://www.buzzfeed.com/keelyflaherty/filmes-...</td>\n",
       "      <td>1</td>\n",
       "    </tr>\n",
       "    <tr>\n",
       "      <th>2</th>\n",
       "      <td>2018-05-15 17:39:34</td>\n",
       "      <td>Todo mundo é uma princesa da Disney OU um heró...</td>\n",
       "      <td>https://www.buzzfeed.com/perpetua/teste-prince...</td>\n",
       "      <td>1</td>\n",
       "    </tr>\n",
       "    <tr>\n",
       "      <th>3</th>\n",
       "      <td>2018-05-10 19:57:22</td>\n",
       "      <td>Quais são as três comidas que combinam com a s...</td>\n",
       "      <td>https://www.buzzfeed.com/joannaborns/teste-tre...</td>\n",
       "      <td>1</td>\n",
       "    </tr>\n",
       "    <tr>\n",
       "      <th>4</th>\n",
       "      <td>2018-04-27 21:17:34</td>\n",
       "      <td>Este teste sobre comida vai dizer de uma vez p...</td>\n",
       "      <td>https://www.buzzfeed.com/joannaborns/teste-com...</td>\n",
       "      <td>1</td>\n",
       "    </tr>\n",
       "  </tbody>\n",
       "</table>\n",
       "</div>"
      ],
      "text/plain": [
       "            timestamp                                              title  \\\n",
       "0 2018-05-18 19:22:06  20 imagens que, por incrível que pareça, não s...   \n",
       "1 2018-05-16 17:24:04  24 filmes da Disney explicados por homens que ...   \n",
       "2 2018-05-15 17:39:34  Todo mundo é uma princesa da Disney OU um heró...   \n",
       "3 2018-05-10 19:57:22  Quais são as três comidas que combinam com a s...   \n",
       "4 2018-04-27 21:17:34  Este teste sobre comida vai dizer de uma vez p...   \n",
       "\n",
       "                                                 url  y  \n",
       "0  https://www.buzzfeed.com/daves4/animais-penis-...  1  \n",
       "1  https://www.buzzfeed.com/keelyflaherty/filmes-...  1  \n",
       "2  https://www.buzzfeed.com/perpetua/teste-prince...  1  \n",
       "3  https://www.buzzfeed.com/joannaborns/teste-tre...  1  \n",
       "4  https://www.buzzfeed.com/joannaborns/teste-com...  1  "
      ]
     },
     "execution_count": 210,
     "metadata": {},
     "output_type": "execute_result"
    }
   ],
   "source": [
    "p.head()"
   ]
  },
  {
   "cell_type": "code",
   "execution_count": 211,
   "metadata": {},
   "outputs": [
    {
     "data": {
      "text/html": [
       "<div>\n",
       "<style scoped>\n",
       "    .dataframe tbody tr th:only-of-type {\n",
       "        vertical-align: middle;\n",
       "    }\n",
       "\n",
       "    .dataframe tbody tr th {\n",
       "        vertical-align: top;\n",
       "    }\n",
       "\n",
       "    .dataframe thead th {\n",
       "        text-align: right;\n",
       "    }\n",
       "</style>\n",
       "<table border=\"1\" class=\"dataframe\">\n",
       "  <thead>\n",
       "    <tr style=\"text-align: right;\">\n",
       "      <th></th>\n",
       "      <th>timestamp</th>\n",
       "      <th>title</th>\n",
       "      <th>url</th>\n",
       "      <th>y</th>\n",
       "    </tr>\n",
       "  </thead>\n",
       "  <tbody>\n",
       "    <tr>\n",
       "      <th>0</th>\n",
       "      <td>2018-05-22 21:02:43</td>\n",
       "      <td>Nem todos que assinam manifesto pró-Boulos dec...</td>\n",
       "      <td>https://www.buzzfeed.com/tatianafarah/frei-bet...</td>\n",
       "      <td>0</td>\n",
       "    </tr>\n",
       "    <tr>\n",
       "      <th>1</th>\n",
       "      <td>2018-05-22 18:47:46</td>\n",
       "      <td>Centenas de professores universitários não est...</td>\n",
       "      <td>https://www.buzzfeed.com/felitti/centenas-de-p...</td>\n",
       "      <td>0</td>\n",
       "    </tr>\n",
       "    <tr>\n",
       "      <th>2</th>\n",
       "      <td>2018-05-22 14:35:14</td>\n",
       "      <td>Janaina Paschoal diz que ser vice de Bolsonaro...</td>\n",
       "      <td>https://www.buzzfeed.com/tatianafarah/janaina-...</td>\n",
       "      <td>0</td>\n",
       "    </tr>\n",
       "    <tr>\n",
       "      <th>3</th>\n",
       "      <td>2018-05-21 20:58:21</td>\n",
       "      <td>Russomanno vira sócio de startup financeira qu...</td>\n",
       "      <td>https://www.buzzfeed.com/alexandrearagao/russo...</td>\n",
       "      <td>0</td>\n",
       "    </tr>\n",
       "    <tr>\n",
       "      <th>4</th>\n",
       "      <td>2018-05-21 20:21:21</td>\n",
       "      <td>Governo errou na política para combustíveis, d...</td>\n",
       "      <td>https://www.buzzfeed.com/severinomotta/governo...</td>\n",
       "      <td>0</td>\n",
       "    </tr>\n",
       "  </tbody>\n",
       "</table>\n",
       "</div>"
      ],
      "text/plain": [
       "            timestamp                                              title  \\\n",
       "0 2018-05-22 21:02:43  Nem todos que assinam manifesto pró-Boulos dec...   \n",
       "1 2018-05-22 18:47:46  Centenas de professores universitários não est...   \n",
       "2 2018-05-22 14:35:14  Janaina Paschoal diz que ser vice de Bolsonaro...   \n",
       "3 2018-05-21 20:58:21  Russomanno vira sócio de startup financeira qu...   \n",
       "4 2018-05-21 20:21:21  Governo errou na política para combustíveis, d...   \n",
       "\n",
       "                                                 url  y  \n",
       "0  https://www.buzzfeed.com/tatianafarah/frei-bet...  0  \n",
       "1  https://www.buzzfeed.com/felitti/centenas-de-p...  0  \n",
       "2  https://www.buzzfeed.com/tatianafarah/janaina-...  0  \n",
       "3  https://www.buzzfeed.com/alexandrearagao/russo...  0  \n",
       "4  https://www.buzzfeed.com/severinomotta/governo...  0  "
      ]
     },
     "execution_count": 211,
     "metadata": {},
     "output_type": "execute_result"
    }
   ],
   "source": [
    "n.head()"
   ]
  },
  {
   "cell_type": "code",
   "execution_count": 212,
   "metadata": {},
   "outputs": [],
   "source": [
    "data = pd.concat( [p, n], ignore_index=True).sort_values('timestamp')"
   ]
  },
  {
   "cell_type": "code",
   "execution_count": 213,
   "metadata": {},
   "outputs": [
    {
     "data": {
      "text/html": [
       "<div>\n",
       "<style scoped>\n",
       "    .dataframe tbody tr th:only-of-type {\n",
       "        vertical-align: middle;\n",
       "    }\n",
       "\n",
       "    .dataframe tbody tr th {\n",
       "        vertical-align: top;\n",
       "    }\n",
       "\n",
       "    .dataframe thead th {\n",
       "        text-align: right;\n",
       "    }\n",
       "</style>\n",
       "<table border=\"1\" class=\"dataframe\">\n",
       "  <thead>\n",
       "    <tr style=\"text-align: right;\">\n",
       "      <th></th>\n",
       "      <th>timestamp</th>\n",
       "      <th>title</th>\n",
       "      <th>url</th>\n",
       "      <th>y</th>\n",
       "    </tr>\n",
       "  </thead>\n",
       "  <tbody>\n",
       "    <tr>\n",
       "      <th>801</th>\n",
       "      <td>2013-08-29 14:48:00</td>\n",
       "      <td>24 Coisas Que As Pessoas Solteiras Estão Cansa...</td>\n",
       "      <td>https://www.buzzfeed.com/ashleyperez/24-coisas...</td>\n",
       "      <td>1</td>\n",
       "    </tr>\n",
       "    <tr>\n",
       "      <th>800</th>\n",
       "      <td>2013-08-30 15:10:58</td>\n",
       "      <td>27 Decisões Do Dia-a-dia Que Pessoas De Vinte-...</td>\n",
       "      <td>https://www.buzzfeed.com/regajha/27-decisoes-d...</td>\n",
       "      <td>1</td>\n",
       "    </tr>\n",
       "    <tr>\n",
       "      <th>799</th>\n",
       "      <td>2013-09-04 12:07:03</td>\n",
       "      <td>21 Fotos Provando Que Os Irmãos Mais Velhos Tê...</td>\n",
       "      <td>https://www.buzzfeed.com/moerder/21-fotos-prov...</td>\n",
       "      <td>1</td>\n",
       "    </tr>\n",
       "    <tr>\n",
       "      <th>798</th>\n",
       "      <td>2013-09-04 16:06:57</td>\n",
       "      <td>30 Sinais De Que Você Tem Quase 30</td>\n",
       "      <td>https://www.buzzfeed.com/jessicamisener/30-sin...</td>\n",
       "      <td>1</td>\n",
       "    </tr>\n",
       "    <tr>\n",
       "      <th>1306</th>\n",
       "      <td>2013-10-18 03:29:53</td>\n",
       "      <td>38 Sinais Que Você é Um Basset Hound</td>\n",
       "      <td>https://www.buzzfeed.com/chelseamarshall/38-si...</td>\n",
       "      <td>1</td>\n",
       "    </tr>\n",
       "  </tbody>\n",
       "</table>\n",
       "</div>"
      ],
      "text/plain": [
       "               timestamp                                              title  \\\n",
       "801  2013-08-29 14:48:00  24 Coisas Que As Pessoas Solteiras Estão Cansa...   \n",
       "800  2013-08-30 15:10:58  27 Decisões Do Dia-a-dia Que Pessoas De Vinte-...   \n",
       "799  2013-09-04 12:07:03  21 Fotos Provando Que Os Irmãos Mais Velhos Tê...   \n",
       "798  2013-09-04 16:06:57                 30 Sinais De Que Você Tem Quase 30   \n",
       "1306 2013-10-18 03:29:53               38 Sinais Que Você é Um Basset Hound   \n",
       "\n",
       "                                                    url  y  \n",
       "801   https://www.buzzfeed.com/ashleyperez/24-coisas...  1  \n",
       "800   https://www.buzzfeed.com/regajha/27-decisoes-d...  1  \n",
       "799   https://www.buzzfeed.com/moerder/21-fotos-prov...  1  \n",
       "798   https://www.buzzfeed.com/jessicamisener/30-sin...  1  \n",
       "1306  https://www.buzzfeed.com/chelseamarshall/38-si...  1  "
      ]
     },
     "execution_count": 213,
     "metadata": {},
     "output_type": "execute_result"
    }
   ],
   "source": [
    "data.head()"
   ]
  },
  {
   "cell_type": "code",
   "execution_count": 214,
   "metadata": {},
   "outputs": [
    {
     "data": {
      "image/png": "[encoded data removed]",
      "text/plain": [
       "<Figure size 720x360 with 1 Axes>"
      ]
     },
     "metadata": {
      "needs_background": "light"
     },
     "output_type": "display_data"
    }
   ],
   "source": [
    "month = data.groupby(data['timestamp'].dt.month)['y'].mean().reset_index()\n",
    "\n",
    "plt.figure(figsize=(10,5))\n",
    "sns.barplot( month.timestamp, month.y )\n",
    "plt.xlabel(\"Mês\")\n",
    "plt.xticks( [x for x in range(12)], [\"jan\",\"fev\",\"mar\",\"abr\",\"mai\",\"jun\",\"jul\",\"ago\",\"set\",\"out\",\"nov\",\"dez\"])\n",
    "\n",
    "plt.title(\" Ocorrência média de ClickBait por mês \")\n",
    "plt.show()"
   ]
  },
  {
   "cell_type": "code",
   "execution_count": 215,
   "metadata": {},
   "outputs": [
    {
     "data": {
      "image/png": "[encoded data removed]",
      "text/plain": [
       "<Figure size 720x360 with 1 Axes>"
      ]
     },
     "metadata": {
      "needs_background": "light"
     },
     "output_type": "display_data"
    }
   ],
   "source": [
    "dataplot = data.groupby(data['timestamp'].dt.date)['y'].mean().reset_index()\n",
    "\n",
    "plt.figure(figsize=(10,5))\n",
    "sns.lineplot( dataplot.timestamp, dataplot.y )\n",
    "plt.title(\" Ocorrência média de ClickBait por mês \")\n",
    "plt.show()"
   ]
  },
  {
   "cell_type": "markdown",
   "metadata": {},
   "source": [
    "# Utilizando apenas dados a partir de 2017"
   ]
  },
  {
   "cell_type": "code",
   "execution_count": 216,
   "metadata": {},
   "outputs": [
    {
     "data": {
      "image/png": "[encoded data removed]",
      "text/plain": [
       "<Figure size 720x360 with 1 Axes>"
      ]
     },
     "metadata": {
      "needs_background": "light"
     },
     "output_type": "display_data"
    }
   ],
   "source": [
    "#data2 = data.groupby(data['timestamp'].dt.date)['y'].mean().reset_index()\n",
    "\n",
    "data2 = data.loc[data.timestamp > '2017-05-01'].copy()\n",
    "\n",
    "\n",
    "dataplot = data2.groupby(data2['timestamp'].dt.date)['y'].mean().reset_index()\n",
    "plt.figure(figsize=(10,5))\n",
    "sns.lineplot( dataplot.timestamp, dataplot.y )\n",
    "plt.title(\" Ocorrência média de ClickBait por mês \")\n",
    "plt.show()\n"
   ]
  },
  {
   "cell_type": "code",
   "execution_count": 217,
   "metadata": {},
   "outputs": [
    {
     "data": {
      "text/plain": [
       "(1128, 4)"
      ]
     },
     "execution_count": 217,
     "metadata": {},
     "output_type": "execute_result"
    }
   ],
   "source": [
    "data2.shape"
   ]
  },
  {
   "cell_type": "code",
   "execution_count": 218,
   "metadata": {},
   "outputs": [],
   "source": [
    "data2['title_pre'] = 0"
   ]
  },
  {
   "cell_type": "code",
   "execution_count": 219,
   "metadata": {},
   "outputs": [],
   "source": [
    "data2['title_pre'] = data2['title'].str.lower().str.replace(r'[^\\w\\s]+',' ')\n"
   ]
  },
  {
   "cell_type": "code",
   "execution_count": 220,
   "metadata": {},
   "outputs": [
    {
     "data": {
      "text/plain": [
       "2315    em pesquisa encomendada pela presidência  82  ...\n",
       "2314    o que você precisa saber sobre o projeto de le...\n",
       "2313    stf manda soltar josé dirceu e impõe nova derr...\n",
       "2312    deltan diz que soltar dirceu foi uma decisão i...\n",
       "2311    moro determina que josé dirceu use tornozeleir...\n",
       "Name: title_pre, dtype: object"
      ]
     },
     "execution_count": 220,
     "metadata": {},
     "output_type": "execute_result"
    }
   ],
   "source": [
    "data2['title_pre'].head()"
   ]
  },
  {
   "cell_type": "code",
   "execution_count": 221,
   "metadata": {},
   "outputs": [
    {
     "data": {
      "text/html": [
       "<div>\n",
       "<style scoped>\n",
       "    .dataframe tbody tr th:only-of-type {\n",
       "        vertical-align: middle;\n",
       "    }\n",
       "\n",
       "    .dataframe tbody tr th {\n",
       "        vertical-align: top;\n",
       "    }\n",
       "\n",
       "    .dataframe thead th {\n",
       "        text-align: right;\n",
       "    }\n",
       "</style>\n",
       "<table border=\"1\" class=\"dataframe\">\n",
       "  <thead>\n",
       "    <tr style=\"text-align: right;\">\n",
       "      <th></th>\n",
       "      <th>timestamp</th>\n",
       "      <th>title</th>\n",
       "      <th>url</th>\n",
       "      <th>y</th>\n",
       "      <th>title_pre</th>\n",
       "    </tr>\n",
       "  </thead>\n",
       "  <tbody>\n",
       "    <tr>\n",
       "      <th>2315</th>\n",
       "      <td>2017-05-02 13:55:49</td>\n",
       "      <td>Em pesquisa encomendada pela Presidência, 82% ...</td>\n",
       "      <td>https://www.buzzfeed.com/filipecoutinho/pesqui...</td>\n",
       "      <td>0</td>\n",
       "      <td>em pesquisa encomendada pela presidência  82  ...</td>\n",
       "    </tr>\n",
       "    <tr>\n",
       "      <th>2314</th>\n",
       "      <td>2017-05-02 18:54:58</td>\n",
       "      <td>O que você precisa saber sobre o projeto de le...</td>\n",
       "      <td>https://www.buzzfeed.com/tatianafarah/o-que-vo...</td>\n",
       "      <td>0</td>\n",
       "      <td>o que você precisa saber sobre o projeto de le...</td>\n",
       "    </tr>\n",
       "    <tr>\n",
       "      <th>2313</th>\n",
       "      <td>2017-05-02 21:20:43</td>\n",
       "      <td>STF manda soltar José Dirceu e impõe nova derr...</td>\n",
       "      <td>https://www.buzzfeed.com/severinomotta/stf-hab...</td>\n",
       "      <td>0</td>\n",
       "      <td>stf manda soltar josé dirceu e impõe nova derr...</td>\n",
       "    </tr>\n",
       "    <tr>\n",
       "      <th>2312</th>\n",
       "      <td>2017-05-02 23:46:07</td>\n",
       "      <td>Deltan diz que soltar Dirceu foi uma decisão i...</td>\n",
       "      <td>https://www.buzzfeed.com/severinomotta/deltan-...</td>\n",
       "      <td>0</td>\n",
       "      <td>deltan diz que soltar dirceu foi uma decisão i...</td>\n",
       "    </tr>\n",
       "    <tr>\n",
       "      <th>2311</th>\n",
       "      <td>2017-05-03 15:39:30</td>\n",
       "      <td>Moro determina que José Dirceu use tornozeleir...</td>\n",
       "      <td>https://www.buzzfeed.com/filipecoutinho/moro-d...</td>\n",
       "      <td>0</td>\n",
       "      <td>moro determina que josé dirceu use tornozeleir...</td>\n",
       "    </tr>\n",
       "  </tbody>\n",
       "</table>\n",
       "</div>"
      ],
      "text/plain": [
       "               timestamp                                              title  \\\n",
       "2315 2017-05-02 13:55:49  Em pesquisa encomendada pela Presidência, 82% ...   \n",
       "2314 2017-05-02 18:54:58  O que você precisa saber sobre o projeto de le...   \n",
       "2313 2017-05-02 21:20:43  STF manda soltar José Dirceu e impõe nova derr...   \n",
       "2312 2017-05-02 23:46:07  Deltan diz que soltar Dirceu foi uma decisão i...   \n",
       "2311 2017-05-03 15:39:30  Moro determina que José Dirceu use tornozeleir...   \n",
       "\n",
       "                                                    url  y  \\\n",
       "2315  https://www.buzzfeed.com/filipecoutinho/pesqui...  0   \n",
       "2314  https://www.buzzfeed.com/tatianafarah/o-que-vo...  0   \n",
       "2313  https://www.buzzfeed.com/severinomotta/stf-hab...  0   \n",
       "2312  https://www.buzzfeed.com/severinomotta/deltan-...  0   \n",
       "2311  https://www.buzzfeed.com/filipecoutinho/moro-d...  0   \n",
       "\n",
       "                                              title_pre  \n",
       "2315  em pesquisa encomendada pela presidência  82  ...  \n",
       "2314  o que você precisa saber sobre o projeto de le...  \n",
       "2313  stf manda soltar josé dirceu e impõe nova derr...  \n",
       "2312  deltan diz que soltar dirceu foi uma decisão i...  \n",
       "2311  moro determina que josé dirceu use tornozeleir...  "
      ]
     },
     "execution_count": 221,
     "metadata": {},
     "output_type": "execute_result"
    }
   ],
   "source": [
    "data2.head()"
   ]
  },
  {
   "cell_type": "code",
   "execution_count": 222,
   "metadata": {},
   "outputs": [],
   "source": [
    "from sklearn.feature_extraction.text import TfidfVectorizer\n",
    "from sklearn.ensemble import RandomForestClassifier\n",
    "from sklearn.pipeline import make_pipeline\n",
    "from sklearn.linear_model import LogisticRegression\n",
    "from sklearn.metrics import log_loss\n",
    "\n",
    "from sklearn.model_selection import train_test_split"
   ]
  },
  {
   "cell_type": "code",
   "execution_count": 223,
   "metadata": {},
   "outputs": [
    {
     "data": {
      "text/plain": [
       "((1128,), (1128,))"
      ]
     },
     "execution_count": 223,
     "metadata": {},
     "output_type": "execute_result"
    }
   ],
   "source": [
    "x = data2['title_pre'].copy()\n",
    "y = data2['y'].copy()\n",
    "x.shape,y.shape"
   ]
  },
  {
   "cell_type": "code",
   "execution_count": 224,
   "metadata": {},
   "outputs": [
    {
     "data": {
      "text/plain": [
       "2315    em pesquisa encomendada pela presidência  82  ...\n",
       "2314    o que você precisa saber sobre o projeto de le...\n",
       "2313    stf manda soltar josé dirceu e impõe nova derr...\n",
       "2312    deltan diz que soltar dirceu foi uma decisão i...\n",
       "2311    moro determina que josé dirceu use tornozeleir...\n",
       "Name: title_pre, dtype: object"
      ]
     },
     "execution_count": 224,
     "metadata": {},
     "output_type": "execute_result"
    }
   ],
   "source": [
    "x.head(5)"
   ]
  },
  {
   "cell_type": "code",
   "execution_count": 225,
   "metadata": {},
   "outputs": [
    {
     "data": {
      "text/plain": [
       "2315    0\n",
       "2314    0\n",
       "2313    0\n",
       "2312    0\n",
       "2311    0\n",
       "Name: y, dtype: int64"
      ]
     },
     "execution_count": 225,
     "metadata": {},
     "output_type": "execute_result"
    }
   ],
   "source": [
    "y.head(5)"
   ]
  },
  {
   "cell_type": "code",
   "execution_count": 227,
   "metadata": {},
   "outputs": [],
   "source": [
    "xtrain, xtest, ytrain, ytest = train_test_split(x,y, test_size =0.3)"
   ]
  },
  {
   "cell_type": "markdown",
   "metadata": {},
   "source": [
    "# Baseline"
   ]
  },
  {
   "cell_type": "code",
   "execution_count": 230,
   "metadata": {},
   "outputs": [
    {
     "data": {
      "text/plain": [
       "0.10646387832699619"
      ]
     },
     "execution_count": 230,
     "metadata": {},
     "output_type": "execute_result"
    }
   ],
   "source": [
    "base = np.ones(xtest.shape[0]) *ytrain.mean()\n",
    "base.mean()"
   ]
  },
  {
   "cell_type": "code",
   "execution_count": 231,
   "metadata": {},
   "outputs": [
    {
     "data": {
      "text/plain": [
       "0.33220962463807"
      ]
     },
     "execution_count": 231,
     "metadata": {},
     "output_type": "execute_result"
    }
   ],
   "source": [
    "log_loss(ytest, base)"
   ]
  },
  {
   "cell_type": "markdown",
   "metadata": {},
   "source": [
    "#Bag of words\n",
    "#linhas = documentos x  columna=palavras\n",
    "\n",
    "ngram_range: quantas palavras são utilizadas em conjunto...\n",
    "ngram_range=(1,1) -- utiliza apena 1 palavra por coluna.\n",
    "ngram_range=(1,2) -- utiliza 1 e 2 palavras para criar a coluna. \n",
    "o aumento do ngrama por melhorar a performace do modelo. Mas nesse caso não melhorou então vamos ficar com 1,1 mesmo.\n"
   ]
  },
  {
   "cell_type": "code",
   "execution_count": 245,
   "metadata": {},
   "outputs": [
    {
     "data": {
      "text/plain": [
       "0.1463984080535793"
      ]
     },
     "execution_count": 245,
     "metadata": {},
     "output_type": "execute_result"
    }
   ],
   "source": [
    "mdl = make_pipeline(TfidfVectorizer(min_df=1, ngram_range=(1,1)), RandomForestClassifier(n_estimators=1000, n_jobs=6, random_state = 0)   )\n",
    "mdl.fit(xtrain,ytrain)\n",
    "p = mdl.predict_proba(xtest)[:,1]\n",
    "log_loss(ytest,p)"
   ]
  },
  {
   "cell_type": "code",
   "execution_count": 250,
   "metadata": {},
   "outputs": [
    {
     "name": "stdout",
     "output_type": "stream",
     "text": [
      "Numero de palavras no vocabulario 3100\n"
     ]
    }
   ],
   "source": [
    "print(\"Numero de palavras no vocabulario\",len( mdl.named_steps.tfidfvectorizer.vocabulary_ ) )"
   ]
  },
  {
   "cell_type": "code",
   "execution_count": 253,
   "metadata": {},
   "outputs": [
    {
     "name": "stderr",
     "output_type": "stream",
     "text": [
      "C:\\ProgramData\\Anaconda3\\lib\\site-packages\\sklearn\\linear_model\\logistic.py:433: FutureWarning: Default solver will be changed to 'lbfgs' in 0.22. Specify a solver to silence this warning.\n",
      "  FutureWarning)\n"
     ]
    },
    {
     "data": {
      "text/plain": [
       "0.10111653971276334"
      ]
     },
     "execution_count": 253,
     "metadata": {},
     "output_type": "execute_result"
    }
   ],
   "source": [
    "mdl = make_pipeline(TfidfVectorizer(min_df=1, ngram_range=(1,1)), LogisticRegression(C=20.)   )\n",
    "mdl.fit(xtrain,ytrain)\n",
    "p = mdl.predict_proba(xtest)[:,1]\n",
    "log_loss(ytest,p)"
   ]
  },
  {
   "cell_type": "code",
   "execution_count": 254,
   "metadata": {},
   "outputs": [
    {
     "name": "stderr",
     "output_type": "stream",
     "text": [
      "C:\\ProgramData\\Anaconda3\\lib\\site-packages\\sklearn\\linear_model\\logistic.py:433: FutureWarning: Default solver will be changed to 'lbfgs' in 0.22. Specify a solver to silence this warning.\n",
      "  FutureWarning)\n"
     ]
    },
    {
     "data": {
      "text/plain": [
       "0.0254638642136767"
      ]
     },
     "execution_count": 254,
     "metadata": {},
     "output_type": "execute_result"
    }
   ],
   "source": [
    "mdl = make_pipeline(TfidfVectorizer(min_df=1, ngram_range=(1,1)), LogisticRegression(C=20.)   )\n",
    "mdl.fit(x,y)\n",
    "p = mdl.predict_proba(xtest)[:,1]\n",
    "log_loss(ytest,p)"
   ]
  },
  {
   "cell_type": "code",
   "execution_count": 258,
   "metadata": {},
   "outputs": [
    {
     "name": "stdout",
     "output_type": "stream",
     "text": [
      "Collecting joblib\n",
      "  Downloading https://files.pythonhosted.org/packages/b8/a6/d1a816b89aa1e9e96bcb298eb1ee1854f21662ebc6d55ffa3d7b3b50122b/joblib-0.15.1-py3-none-any.whl (298kB)\n",
      "Installing collected packages: joblib\n",
      "Successfully installed joblib-0.15.1\n"
     ]
    }
   ],
   "source": [
    "!pip install joblib"
   ]
  },
  {
   "cell_type": "code",
   "execution_count": 259,
   "metadata": {},
   "outputs": [
    {
     "data": {
      "text/plain": [
       "['mdl.pkl.z']"
      ]
     },
     "execution_count": 259,
     "metadata": {},
     "output_type": "execute_result"
    }
   ],
   "source": [
    "import joblib as jb\n",
    "jb.dump(mdl,\"mdl.pkl.z\")"
   ]
  },
  {
   "cell_type": "markdown",
   "metadata": {},
   "source": [
    "# API Resquest"
   ]
  },
  {
   "cell_type": "code",
   "execution_count": 262,
   "metadata": {},
   "outputs": [],
   "source": [
    "import requests as r\n",
    "import urllib.parse\n",
    "\n"
   ]
  }
 ],
 "metadata": {
  "kernelspec": {
   "display_name": "Python 3",
   "language": "python",
   "name": "python3"
  },
  "language_info": {
   "codemirror_mode": {
    "name": "ipython",
    "version": 3
   },
   "file_extension": ".py",
   "mimetype": "text/x-python",
   "name": "python",
   "nbconvert_exporter": "python",
   "pygments_lexer": "ipython3",
   "version": "3.7.3"
  }
 },
 "nbformat": 4,
 "nbformat_minor": 2
}
